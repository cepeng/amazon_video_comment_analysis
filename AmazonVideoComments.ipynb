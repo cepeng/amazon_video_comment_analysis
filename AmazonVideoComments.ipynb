{
 "cells": [
  {
   "cell_type": "code",
   "execution_count": 30,
   "metadata": {},
   "outputs": [],
   "source": [
    "import pandas as pd\n",
    "from pandas import DataFrame\n",
    "import gzip\n",
    "import json"
   ]
  },
  {
   "cell_type": "code",
   "execution_count": 31,
   "metadata": {},
   "outputs": [],
   "source": [
    "# The website has provided a sample snippet to read data from gzip and generate a DataFrame\n",
    "def parse(path):\n",
    "    g = gzip.open(path,'rb')\n",
    "    for l in g:\n",
    "        yield eval(l)\n",
    "        \n",
    "def getDF(path):\n",
    "  i = 0\n",
    "  df = {}\n",
    "  for d in parse(path):\n",
    "    df[i] = d\n",
    "    i += 1\n",
    "  return pd.DataFrame.from_dict(df, orient='index')"
   ]
  },
  {
   "cell_type": "code",
   "execution_count": 34,
   "metadata": {},
   "outputs": [],
   "source": [
    "with open(\"reviews_Amazon_Instant_Video_5.json\") as f:\n",
    "    data = []\n",
    "    for line in f:\n",
    "        data.append(json.loads(line))"
   ]
  },
  {
   "cell_type": "code",
   "execution_count": 43,
   "metadata": {},
   "outputs": [
    {
     "data": {
      "text/html": [
       "<div>\n",
       "<style scoped>\n",
       "    .dataframe tbody tr th:only-of-type {\n",
       "        vertical-align: middle;\n",
       "    }\n",
       "\n",
       "    .dataframe tbody tr th {\n",
       "        vertical-align: top;\n",
       "    }\n",
       "\n",
       "    .dataframe thead th {\n",
       "        text-align: right;\n",
       "    }\n",
       "</style>\n",
       "<table border=\"1\" class=\"dataframe\">\n",
       "  <thead>\n",
       "    <tr style=\"text-align: right;\">\n",
       "      <th></th>\n",
       "      <th>asin</th>\n",
       "      <th>helpful</th>\n",
       "      <th>overall</th>\n",
       "      <th>reviewText</th>\n",
       "      <th>reviewTime</th>\n",
       "      <th>reviewerID</th>\n",
       "      <th>reviewerName</th>\n",
       "      <th>summary</th>\n",
       "      <th>unixReviewTime</th>\n",
       "    </tr>\n",
       "  </thead>\n",
       "  <tbody>\n",
       "    <tr>\n",
       "      <th>0</th>\n",
       "      <td>B000H00VBQ</td>\n",
       "      <td>[0, 0]</td>\n",
       "      <td>2.0</td>\n",
       "      <td>I had big expectations because I love English ...</td>\n",
       "      <td>05 3, 2014</td>\n",
       "      <td>A11N155CW1UV02</td>\n",
       "      <td>AdrianaM</td>\n",
       "      <td>A little bit boring for me</td>\n",
       "      <td>1399075200</td>\n",
       "    </tr>\n",
       "    <tr>\n",
       "      <th>1</th>\n",
       "      <td>B000H00VBQ</td>\n",
       "      <td>[0, 0]</td>\n",
       "      <td>5.0</td>\n",
       "      <td>I highly recommend this series. It is a must f...</td>\n",
       "      <td>09 3, 2012</td>\n",
       "      <td>A3BC8O2KCL29V2</td>\n",
       "      <td>Carol T</td>\n",
       "      <td>Excellent Grown Up TV</td>\n",
       "      <td>1346630400</td>\n",
       "    </tr>\n",
       "    <tr>\n",
       "      <th>2</th>\n",
       "      <td>B000H00VBQ</td>\n",
       "      <td>[0, 1]</td>\n",
       "      <td>1.0</td>\n",
       "      <td>This one is a real snoozer. Don't believe anyt...</td>\n",
       "      <td>10 16, 2013</td>\n",
       "      <td>A60D5HQFOTSOM</td>\n",
       "      <td>Daniel Cooper \"dancoopermedia\"</td>\n",
       "      <td>Way too boring for me</td>\n",
       "      <td>1381881600</td>\n",
       "    </tr>\n",
       "    <tr>\n",
       "      <th>3</th>\n",
       "      <td>B000H00VBQ</td>\n",
       "      <td>[0, 0]</td>\n",
       "      <td>4.0</td>\n",
       "      <td>Mysteries are interesting.  The tension betwee...</td>\n",
       "      <td>10 30, 2013</td>\n",
       "      <td>A1RJPIGRSNX4PW</td>\n",
       "      <td>J. Kaplan \"JJ\"</td>\n",
       "      <td>Robson Green is mesmerizing</td>\n",
       "      <td>1383091200</td>\n",
       "    </tr>\n",
       "    <tr>\n",
       "      <th>4</th>\n",
       "      <td>B000H00VBQ</td>\n",
       "      <td>[1, 1]</td>\n",
       "      <td>5.0</td>\n",
       "      <td>This show always is excellent, as far as briti...</td>\n",
       "      <td>02 11, 2009</td>\n",
       "      <td>A16XRPF40679KG</td>\n",
       "      <td>Michael Dobey</td>\n",
       "      <td>Robson green and great writing</td>\n",
       "      <td>1234310400</td>\n",
       "    </tr>\n",
       "  </tbody>\n",
       "</table>\n",
       "</div>"
      ],
      "text/plain": [
       "         asin helpful  overall  \\\n",
       "0  B000H00VBQ  [0, 0]      2.0   \n",
       "1  B000H00VBQ  [0, 0]      5.0   \n",
       "2  B000H00VBQ  [0, 1]      1.0   \n",
       "3  B000H00VBQ  [0, 0]      4.0   \n",
       "4  B000H00VBQ  [1, 1]      5.0   \n",
       "\n",
       "                                          reviewText   reviewTime  \\\n",
       "0  I had big expectations because I love English ...   05 3, 2014   \n",
       "1  I highly recommend this series. It is a must f...   09 3, 2012   \n",
       "2  This one is a real snoozer. Don't believe anyt...  10 16, 2013   \n",
       "3  Mysteries are interesting.  The tension betwee...  10 30, 2013   \n",
       "4  This show always is excellent, as far as briti...  02 11, 2009   \n",
       "\n",
       "       reviewerID                    reviewerName  \\\n",
       "0  A11N155CW1UV02                        AdrianaM   \n",
       "1  A3BC8O2KCL29V2                         Carol T   \n",
       "2   A60D5HQFOTSOM  Daniel Cooper \"dancoopermedia\"   \n",
       "3  A1RJPIGRSNX4PW                  J. Kaplan \"JJ\"   \n",
       "4  A16XRPF40679KG                   Michael Dobey   \n",
       "\n",
       "                          summary  unixReviewTime  \n",
       "0      A little bit boring for me      1399075200  \n",
       "1           Excellent Grown Up TV      1346630400  \n",
       "2           Way too boring for me      1381881600  \n",
       "3     Robson Green is mesmerizing      1383091200  \n",
       "4  Robson green and great writing      1234310400  "
      ]
     },
     "execution_count": 43,
     "metadata": {},
     "output_type": "execute_result"
    }
   ],
   "source": [
    "len(data)\n",
    "table_f = pd.DataFrame(data)\n",
    "table_f.head(5)"
   ]
  },
  {
   "cell_type": "code",
   "execution_count": 49,
   "metadata": {},
   "outputs": [
    {
     "data": {
      "text/plain": [
       "(37126, 9)"
      ]
     },
     "execution_count": 49,
     "metadata": {},
     "output_type": "execute_result"
    }
   ],
   "source": [
    "table_f[\"overall\"].describe()\n",
    "table_f.shape"
   ]
  },
  {
   "cell_type": "code",
   "execution_count": 61,
   "metadata": {},
   "outputs": [],
   "source": [
    "def group_by_year(table_f:DataFrame)->dict:\n",
    "    scores = {}\n",
    "    for _,row in table_f.iterrows():\n",
    "        y = row['reviewTime'].split()[2]\n",
    "        if y not in scores:\n",
    "            scores[y] = []\n",
    "        scores[y].append(float(row[\"overall\"]))\n",
    "    return scores   "
   ]
  },
  {
   "cell_type": "code",
   "execution_count": 62,
   "metadata": {},
   "outputs": [],
   "source": [
    "def avg_score_by_year(table_f:DataFrame,min_appear = 0)->DataFrame:\n",
    "    scores = group_by_year(table_f)\n",
    "    scores = {y:s for y,s in scores.items() if len(s) > min_appear}\n",
    "    avg_scores = {y:sum(l)/len(l) for y,l in scores.items()}\n",
    "    return DataFrame(sorted(list(avg_scores.items())),columns=[\"year\",\"score\"])"
   ]
  },
  {
   "cell_type": "code",
   "execution_count": 63,
   "metadata": {},
   "outputs": [
    {
     "data": {
      "text/html": [
       "<div>\n",
       "<style scoped>\n",
       "    .dataframe tbody tr th:only-of-type {\n",
       "        vertical-align: middle;\n",
       "    }\n",
       "\n",
       "    .dataframe tbody tr th {\n",
       "        vertical-align: top;\n",
       "    }\n",
       "\n",
       "    .dataframe thead th {\n",
       "        text-align: right;\n",
       "    }\n",
       "</style>\n",
       "<table border=\"1\" class=\"dataframe\">\n",
       "  <thead>\n",
       "    <tr style=\"text-align: right;\">\n",
       "      <th></th>\n",
       "      <th>year</th>\n",
       "      <th>score</th>\n",
       "    </tr>\n",
       "  </thead>\n",
       "  <tbody>\n",
       "    <tr>\n",
       "      <th>0</th>\n",
       "      <td>2006</td>\n",
       "      <td>4.937500</td>\n",
       "    </tr>\n",
       "    <tr>\n",
       "      <th>1</th>\n",
       "      <td>2007</td>\n",
       "      <td>4.245763</td>\n",
       "    </tr>\n",
       "    <tr>\n",
       "      <th>2</th>\n",
       "      <td>2008</td>\n",
       "      <td>4.298701</td>\n",
       "    </tr>\n",
       "    <tr>\n",
       "      <th>3</th>\n",
       "      <td>2009</td>\n",
       "      <td>4.251381</td>\n",
       "    </tr>\n",
       "    <tr>\n",
       "      <th>4</th>\n",
       "      <td>2010</td>\n",
       "      <td>4.093085</td>\n",
       "    </tr>\n",
       "  </tbody>\n",
       "</table>\n",
       "</div>"
      ],
      "text/plain": [
       "   year     score\n",
       "0  2006  4.937500\n",
       "1  2007  4.245763\n",
       "2  2008  4.298701\n",
       "3  2009  4.251381\n",
       "4  2010  4.093085"
      ]
     },
     "execution_count": 63,
     "metadata": {},
     "output_type": "execute_result"
    }
   ],
   "source": [
    "avg_scores_table_f = avg_score_by_year(table_f,min_appear = 10)\n",
    "avg_scores_table_f.head()"
   ]
  },
  {
   "cell_type": "code",
   "execution_count": 64,
   "metadata": {},
   "outputs": [
    {
     "data": {
      "text/plain": [
       "<matplotlib.axes._subplots.AxesSubplot at 0x110a28f60>"
      ]
     },
     "execution_count": 64,
     "metadata": {},
     "output_type": "execute_result"
    },
    {
     "data": {
      "image/png": "[encoded data removed]",
      "text/plain": [
       "<matplotlib.figure.Figure at 0x10c9e0a90>"
      ]
     },
     "metadata": {},
     "output_type": "display_data"
    }
   ],
   "source": [
    "%matplotlib inline\n",
    "avg_scores_table_f.set_index(\"year\").plot(title=\"Average score over time\")"
   ]
  }
 ],
 "metadata": {
  "kernelspec": {
   "display_name": "Python 3",
   "language": "python",
   "name": "python3"
  },
  "language_info": {
   "codemirror_mode": {
    "name": "ipython",
    "version": 3
   },
   "file_extension": ".py",
   "mimetype": "text/x-python",
   "name": "python",
   "nbconvert_exporter": "python",
   "pygments_lexer": "ipython3",
   "version": "3.6.1"
  }
 },
 "nbformat": 4,
 "nbformat_minor": 2
}
